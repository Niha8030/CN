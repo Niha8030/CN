{
 "metadata": {
  "language_info": {
   "codemirror_mode": {
    "name": "ipython",
    "version": 3
   },
   "file_extension": ".py",
   "mimetype": "text/x-python",
   "name": "python",
   "nbconvert_exporter": "python",
   "pygments_lexer": "ipython3",
   "version": "3.8.3-final"
  },
  "orig_nbformat": 2,
  "kernelspec": {
   "name": "python3",
   "display_name": "Python 3"
  }
 },
 "nbformat": 4,
 "nbformat_minor": 2,
 "cells": [
  {
   "cell_type": "code",
   "execution_count": 1,
   "metadata": {},
   "outputs": [],
   "source": [
    "class Topology:\n",
    "    def __init__(self, array_of_points):\n",
    "        self.nodes = array_of_points\n",
    "        self.edges = []\n",
    "    \n",
    "    def add_direct_connection(self, p1, p2, cost):\n",
    "        self.edges.append((p1, p2, cost))\n",
    "        self.edges.append((p2, p1, cost))\n",
    "        \n",
    "    def distance_vector_routing(self):\n",
    "        import collections\n",
    "        for node in self.nodes:\n",
    "            dist = collections.defaultdict(int)\n",
    "            next_hop = {node: node}\n",
    "            for other_node in self.nodes:\n",
    "                if other_node != node:\n",
    "                    dist[other_node] = 100000000 # infinity\n",
    "                \n",
    "            # Bellman Ford Algorithm\n",
    "            for i in range(len(self.nodes)-1):\n",
    "                for edge in self.edges:\n",
    "                    src, dest, cost = edge\n",
    "                    if dist[src] + cost < dist[dest]:\n",
    "                        dist[dest] = dist[src] + cost\n",
    "                        if src == node:\n",
    "                            next_hop[dest] =dest\n",
    "                        elif src in next_hop:\n",
    "                            next_hop[dest] = next_hop[src]\n",
    "            \n",
    "            self.print_routing_table(node, dist, next_hop)\n",
    "            print()\n",
    "            \n",
    "    def print_routing_table(self, node, dist, next_hop):\n",
    "        print(f'Routing table for {node}:')\n",
    "        print('Dest \\t Cost \\t Next Hop')\n",
    "        for dest, cost in dist.items():\n",
    "            print(f'{dest} \\t {cost} \\t {next_hop[dest]}')"
   ]
  },
  {
   "cell_type": "code",
   "execution_count": 2,
   "metadata": {},
   "outputs": [
    {
     "output_type": "stream",
     "name": "stdout",
     "text": [
      "Routing table for A:\n",
      "Dest \t Cost \t Next Hop\n",
      "B \t 1 \t B\n",
      "C \t 4 \t B\n",
      "D \t 8 \t B\n",
      "E \t 10 \t B\n",
      "A \t 0 \t A\n",
      "\n",
      "Routing table for B:\n",
      "Dest \t Cost \t Next Hop\n",
      "A \t 1 \t A\n",
      "C \t 3 \t C\n",
      "D \t 7 \t C\n",
      "E \t 9 \t E\n",
      "B \t 0 \t B\n",
      "\n",
      "Routing table for C:\n",
      "Dest \t Cost \t Next Hop\n",
      "A \t 4 \t B\n",
      "B \t 3 \t B\n",
      "D \t 4 \t D\n",
      "E \t 6 \t D\n",
      "C \t 0 \t C\n",
      "\n",
      "Routing table for D:\n",
      "Dest \t Cost \t Next Hop\n",
      "A \t 8 \t C\n",
      "B \t 7 \t C\n",
      "C \t 4 \t C\n",
      "E \t 2 \t E\n",
      "D \t 0 \t D\n",
      "\n",
      "Routing table for E:\n",
      "Dest \t Cost \t Next Hop\n",
      "A \t 10 \t B\n",
      "B \t 9 \t B\n",
      "C \t 6 \t D\n",
      "D \t 2 \t D\n",
      "E \t 0 \t E\n",
      "\n"
     ]
    }
   ],
   "source": [
    "nodes = ['A', 'B', 'C', 'D', 'E']\n",
    "\n",
    "t = Topology(nodes)\n",
    "\n",
    "t.add_direct_connection('A', 'B', 1)\n",
    "t.add_direct_connection('A', 'C', 5)\n",
    "t.add_direct_connection('B', 'C', 3)\n",
    "t.add_direct_connection('B', 'E', 9)\n",
    "t.add_direct_connection('C', 'D', 4)\n",
    "t.add_direct_connection('D', 'E', 2)\n",
    "\n",
    "t.distance_vector_routing()"
   ]
  },
  {
   "cell_type": "code",
   "execution_count": 3,
   "metadata": {},
   "outputs": [
    {
     "output_type": "stream",
     "name": "stdout",
     "text": [
      "Routing table for A:\nDest \t Cost \t Next Hop\nB \t 5 \t D\nC \t 1 \t C\nD \t 3 \t D\nE \t 2 \t C\nA \t 0 \t A\n\nRouting table for B:\nDest \t Cost \t Next Hop\nA \t 5 \t D\nC \t 5 \t C\nD \t 2 \t D\nE \t 6 \t C\nB \t 0 \t B\n\nRouting table for C:\nDest \t Cost \t Next Hop\nA \t 1 \t A\nB \t 5 \t B\nD \t 4 \t A\nE \t 1 \t E\nC \t 0 \t C\n\nRouting table for D:\nDest \t Cost \t Next Hop\nA \t 3 \t A\nB \t 2 \t B\nC \t 4 \t C\nE \t 5 \t C\nD \t 0 \t D\n\nRouting table for E:\nDest \t Cost \t Next Hop\nA \t 2 \t C\nB \t 6 \t C\nC \t 1 \t C\nD \t 5 \t C\nE \t 0 \t E\n\n"
     ]
    }
   ],
   "source": [
    "\n",
    "# User defined input\n",
    "nodes = input('Enter the nodes: ').split()\n",
    "\n",
    "t = Topology(nodes)\n",
    "\n",
    "edges = int(input('Enter the number of connections: '))\n",
    "for _ in range(edges):\n",
    "    src, dest, cost = input('Enter [src] [dest] [cost]: ').split()\n",
    "    t.add_direct_connection(src, dest, int(cost))\n",
    "    \n",
    "t.distance_vector_routing()"
   ]
  }
 ]
}